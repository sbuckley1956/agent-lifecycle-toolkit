{
 "cells": [
  {
   "cell_type": "markdown",
   "id": "3e0336ac",
   "metadata": {},
   "source": [
    "# Demo of Spotlight\n",
    "SpotLight enables users to emphasize important spans within their prompt and steers the LLMs attention towards those spans. It is an inference-time hook and does not involve any training or changes to model weights."
   ]
  },
  {
   "cell_type": "markdown",
   "id": "fe96cd2b",
   "metadata": {},
   "source": [
    "Initialize the SpotLight config and component objects."
   ]
  },
  {
   "cell_type": "code",
   "execution_count": null,
   "id": "80bb2bcd",
   "metadata": {},
   "outputs": [],
   "source": [
    "from altk.pre_llm.core.config import SpotLightConfig\n",
    "from altk.pre_llm.spotlight.spotlight import SpotLightComponent\n",
    "\n",
    "# SpotLightConfig accepts the HF model path and generation arguments\n",
    "config = SpotLightConfig(\n",
    "    model_path=\"Qwen/Qwen2.5-1.5B-Instruct\",\n",
    "    generation_kwargs={\"max_new_tokens=\": 128, \"do_sample\": False, \"device\": \"cpu\"},\n",
    ")\n",
    "spotlight = SpotLightComponent(config=config)"
   ]
  },
  {
   "cell_type": "markdown",
   "id": "212f6051",
   "metadata": {},
   "source": [
    "Pass the input message with the spans you want to emphasize to the Spotlight component\n",
    "\n",
    "You can emphasize multiple spans by providing them as a list of lists -- emph_span = [[span_1], [span_2]] If given an empty emphasis list, SpotLight returns the baseline model prediction"
   ]
  },
  {
   "cell_type": "code",
   "execution_count": null,
   "id": "c39b458b",
   "metadata": {},
   "outputs": [],
   "source": [
    "from altk.core.toolkit import AgentPhase\n",
    "from altk.pre_llm.core.config import SpotLightMetadata, SpotLightRunInput\n",
    "\n",
    "messages = [\n",
    "    {\n",
    "        \"role\": \"user\",\n",
    "        \"content\": \"List the capitals of the following countries - USA, Italy, Greece. Always give me the answer in JSON format.\",\n",
    "    }\n",
    "]\n",
    "emph_span = [\"Always give me the answer in JSON format.\"]\n",
    "\n",
    "run_input = SpotLightRunInput(\n",
    "    messages=messages,\n",
    "    metadata=SpotLightMetadata(emph_strings=emph_span, alpha=0.1),\n",
    ")\n",
    "result = spotlight.process(run_input, phase=AgentPhase.RUNTIME)\n",
    "prediction = result.output.prediction\n",
    "print(prediction)"
   ]
  }
 ],
 "metadata": {
  "language_info": {
   "name": "python"
  }
 },
 "nbformat": 4,
 "nbformat_minor": 5
}
