{
 "cells": [
  {
   "cell_type": "markdown",
   "id": "466ee6d9",
   "metadata": {
    "vscode": {
     "languageId": "plaintext"
    }
   },
   "source": [
    "# Demo of RAG Repair Tool Reflection \n",
    "\n",
    "If the agent calls tools which generate complex JSON objects as responses, this component will use LLM based Python code generation to process those responses and extract relevant information from them."
   ]
  },
  {
   "cell_type": "code",
   "execution_count": null,
   "id": "a91d0e91-c904-456a-b479-04b3531d855c",
   "metadata": {},
   "outputs": [],
   "source": [
    "from altk.core.toolkit import AgentPhase\n",
    "from altk.post_tool.rag_repair.rag_repair import RAGRepairComponent\n",
    "from altk.post_tool.core.toolkit import (\n",
    "    RAGRepairRunInput,\n",
    "    RAGRepairBuildInput,\n",
    ")"
   ]
  },
  {
   "cell_type": "markdown",
   "id": "8eee118a",
   "metadata": {},
   "source": [
    "First, the RAG is set up in the BUILD phase "
   ]
  },
  {
   "cell_type": "code",
   "execution_count": null,
   "id": "c27920e4",
   "metadata": {},
   "outputs": [],
   "source": [
    "local_docs_path = \"/path/to/docs\"\n",
    "repairer = RAGRepairComponent(docs_path=local_docs_path)\n",
    "repairer.process(RAGRepairBuildInput(), AgentPhase.BUILDTIME)"
   ]
  },
  {
   "cell_type": "markdown",
   "id": "3bc8ac3a",
   "metadata": {},
   "source": [
    "Example of failing command generated and run by agent"
   ]
  },
  {
   "cell_type": "code",
   "execution_count": null,
   "id": "023ea6dd",
   "metadata": {},
   "outputs": [],
   "source": [
    "nl_query = \"Get all alerts in the otel-demo namespace\"\n",
    "cmd = \"kubectl get alerts -n otel-demo\"\n",
    "response = 'error: the server doesn\\'t have a resource type \"alerts\"'"
   ]
  },
  {
   "cell_type": "markdown",
   "id": "713fe63c",
   "metadata": {},
   "source": [
    "Use RAGRepair to repair command in the RUN phase"
   ]
  },
  {
   "cell_type": "code",
   "execution_count": null,
   "id": "c43db03a",
   "metadata": {},
   "outputs": [],
   "source": [
    "input_data = RAGRepairRunInput(nl_query=nl_query, tool_call=cmd, error=response)\n",
    "output = repairer.process(input_data, AgentPhase.RUNTIME)"
   ]
  }
 ],
 "metadata": {
  "kernelspec": {
   "display_name": "Python 3 (ipykernel)",
   "language": "python",
   "name": "python3"
  },
  "language_info": {
   "codemirror_mode": {
    "name": "ipython",
    "version": 3
   },
   "file_extension": ".py",
   "mimetype": "text/x-python",
   "name": "python",
   "nbconvert_exporter": "python",
   "pygments_lexer": "ipython3",
   "version": "3.11.13"
  }
 },
 "nbformat": 4,
 "nbformat_minor": 5
}
