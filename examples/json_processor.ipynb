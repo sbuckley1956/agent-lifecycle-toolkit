{
 "cells": [
  {
   "cell_type": "markdown",
   "id": "dcf518d3",
   "metadata": {},
   "source": [
    "# Demo of JSON tool response processing using code generation\n",
    "This Jupyter notebook is a demo of the JSON processor component.\n",
    "\n",
    "This approach is effective when JSON tool responses are large and complex/highly nested and when the processing required is not trivial.\n",
    "\n",
    "Up to 20% improvement in accuracy on some queries (over prompting a model directly to extract the answer) even when using frontier models like GPT-4o."
   ]
  },
  {
   "cell_type": "code",
   "execution_count": null,
   "id": "19af3885",
   "metadata": {},
   "outputs": [],
   "source": [
    "from typing import cast\n",
    "import json\n",
    "from altk.core.toolkit import AgentPhase\n",
    "from altk.core.llm import get_llm\n",
    "from altk.post_tool.code_generation.code_generation import (\n",
    "    CodeGenerationComponent,\n",
    "    CodeGenerationComponentConfig,\n",
    ")\n",
    "from altk.post_tool.core.toolkit import (\n",
    "    CodeGenerationRunInput,\n",
    "    CodeGenerationRunOutput,\n",
    ")"
   ]
  },
  {
   "cell_type": "markdown",
   "id": "e4946820",
   "metadata": {},
   "source": [
    "The inputs to this component are: a user query (`user_query`) and an API response as a JSON object (`api_response`)"
   ]
  },
  {
   "cell_type": "code",
   "execution_count": null,
   "id": "225b45eb",
   "metadata": {},
   "outputs": [],
   "source": [
    "user_query = (\n",
    "    \"Which hotels have free parking? Output a comma separated list of hotel names.\"\n",
    ")\n",
    "\n",
    "with open(\"codegen_long_response_example.json\", \"r\") as file:\n",
    "    response = json.load(file)\n",
    "\n",
    "print(response)"
   ]
  },
  {
   "cell_type": "markdown",
   "id": "2a401d6b",
   "metadata": {},
   "source": [
    "Configure the LLM you will use to generate the Python code that will process the JSON response. "
   ]
  },
  {
   "cell_type": "code",
   "execution_count": null,
   "id": "d64330b7",
   "metadata": {},
   "outputs": [],
   "source": [
    "import os\n",
    "\n",
    "os.environ[\"OPENAI_API_KEY\"] = \"your_api_key_here\"\n",
    "\n",
    "OPENAI_CLIENT = get_llm(\"openai.sync\")  # ValidatingLLMClient\n",
    "config = CodeGenerationComponentConfig(\n",
    "    llm_client=OPENAI_CLIENT(\n",
    "        model_name=\"o4-mini\",\n",
    "    )\n",
    ")"
   ]
  },
  {
   "cell_type": "markdown",
   "id": "2adda2b2",
   "metadata": {},
   "source": [
    "Initialize the JSON processor component"
   ]
  },
  {
   "cell_type": "code",
   "execution_count": null,
   "id": "e5a9b4a3",
   "metadata": {},
   "outputs": [],
   "source": [
    "component = CodeGenerationComponent(config=config)"
   ]
  },
  {
   "cell_type": "markdown",
   "id": "391fb9c9",
   "metadata": {},
   "source": [
    "The user query and API response is passed to the LLM model to generate the Python code. The code is executed to obtain the final answer from the API response that addresses the user's query."
   ]
  },
  {
   "cell_type": "code",
   "execution_count": null,
   "id": "5318d506",
   "metadata": {},
   "outputs": [],
   "source": [
    "input_data = CodeGenerationRunInput(\n",
    "    messages=[], nl_query=user_query, tool_response=response\n",
    ")"
   ]
  },
  {
   "cell_type": "markdown",
   "id": "2f55d2f3",
   "metadata": {},
   "source": [
    "Run the component and generate the output. "
   ]
  },
  {
   "cell_type": "code",
   "execution_count": null,
   "id": "2afe11ba-bb5d-42d1-b2fb-edc2a5cfbe62",
   "metadata": {},
   "outputs": [],
   "source": [
    "output = cast(\n",
    "    CodeGenerationRunOutput, component.process(input_data, AgentPhase.RUNTIME)\n",
    ")\n",
    "print(output)"
   ]
  }
 ],
 "metadata": {
  "kernelspec": {
   "display_name": "Python 3 (ipykernel)",
   "language": "python",
   "name": "python3"
  },
  "language_info": {
   "codemirror_mode": {
    "name": "ipython",
    "version": 3
   },
   "file_extension": ".py",
   "mimetype": "text/x-python",
   "name": "python",
   "nbconvert_exporter": "python",
   "pygments_lexer": "ipython3",
   "version": "3.12.7"
  }
 },
 "nbformat": 4,
 "nbformat_minor": 5
}
