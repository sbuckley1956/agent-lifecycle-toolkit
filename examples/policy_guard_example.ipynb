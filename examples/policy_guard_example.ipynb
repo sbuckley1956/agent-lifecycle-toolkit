{
 "cells": [
  {
   "cell_type": "markdown",
   "id": "dcf518d3",
   "metadata": {},
   "source": [
    "# Demo of policy guard component\n",
    "This Jupyter notebook is a demo of the Policy Guard ALTK Component.\n",
    "\n",
    "This approach is effective when agent responses are expected to conform to some set of semantic or syntactic guidelines. \n"
   ]
  },
  {
   "cell_type": "code",
   "execution_count": null,
   "id": "19af3885",
   "metadata": {},
   "outputs": [],
   "source": [
    "from altk.toolkit_core.llm import get_llm\n",
    "from altk.toolkit_core.core.toolkit import ComponentConfig\n",
    "\n",
    "from altk.policy_guard_toolkit.core.toolkit import (\n",
    "    PolicyDetectorInput,\n",
    "    PolicyRepairerInput,\n",
    "    RepairConfig,\n",
    ")\n",
    "\n",
    "from altk.policy_guard_toolkit.detect.detector import BatchPolicyLLMDetector\n",
    "from altk.policy_guard_toolkit.repair.repairer import BatchPolicyRepairer"
   ]
  },
  {
   "cell_type": "markdown",
   "id": "e4946820",
   "metadata": {},
   "source": [
    "The inputs to this component are: a user query (`user_query`), a response to the query (from a model, agent, or human), and a set of policies that the response is expected to follow. "
   ]
  },
  {
   "cell_type": "code",
   "execution_count": null,
   "id": "225b45eb",
   "metadata": {},
   "outputs": [],
   "source": [
    "user_query = \"Can you provide a summary of the major announcements made during the 2022 Google I/O conference?\"\n",
    "\n",
    "policy_list = [\n",
    "    \"In your entire response, refrain from the use of any commas.\",\n",
    "    \"Answer with at least 200 words.\",\n",
    "    \"Your answer must contain a title, wrapped in double angular brackets, such as <<poem of joy>>.\",\n",
    "    \"In your response, the word Android should appear less than 5 times.\",\n",
    "    \"Your answer must contain exactly 6 bullet points. Use the markdown bullet points such as:\\n* This is point 1. \\n* This is point 2\",\n",
    "    \"Include one of the following options in your answer: ('My answer is yes.', 'My answer is no.', 'My answer is maybe.')\",\n",
    "    \"In your response, words with all capital letters should appear at least 7 times.\",\n",
    "    \"Begin your response with this exact phrase: `During the 2022`. No other words should come before this phrase.\",\n",
    "    \"Paragraph 2 must have the word 'opportunity' in its first three words. Paragraphs and only paragraphs are separated with each other by two new lines as if it was '\\\\n\\\\n' in python. \",\n",
    "    \"Include keywords ['Android', 'Bard'] in the response.\",\n",
    "]\n",
    "\n",
    "response = \"During the 2022 Google I/O conference was a major event that took place in MAY and JUNE of that year and it was a great SUCCESS with many EXCITING announcements made by the company's TOP officials including SUNDAR PICHAI and other HIGH-PROFILE individuals from the TECH industry. The conference was a huge OPPORTUNITY for Google to showcase its LATEST innovations and PRODUCTS including the NEW Android operating system and other SOFTWARE updates. The event was attended by THOUSANDS of developers and TECH enthusiasts from around the WORLD who were eager to learn about the LATEST trends and ADVANCES in the field of TECHNOLOGY. The conference featured many KEYNOTE speeches and PRESENTATIONS by EXPERTS in the field of ARTIFICIAL INTELLIGENCE and MACHINE LEARNING. My answer is yes.\\n\\n\\nOpportunity opportunity opportunity to learn about the LATEST developments in the field of TECHNOLOGY was one of the main reasons why many people attended the conference. The event featured many EXHIBITS and DEMONSTRATIONS of NEW PRODUCTS and SERVICES including the Bard which is a CONVERSATIONAL AI model developed by Google. The conference also provided a great opportunity for developers to NETWORK and LEARN from each other and to get feedback on their WORK from EXPERTS in the field. The event was a huge SUCCESS and it helped to establish Google as a LEADER in the TECH industry. The company's COMMITMENT to INNOVATION and EXCELLENCE was evident in the many ANNOUNCEMENTS and PRESENTATIONS made during the conference. The NEW Android operating system was one of the main topics of discussion during the event.\\n\\n\\n<<Google I/O Conference Summary>>\\nThe conference featured many HIGH-PROFILE speakers and PRESENTATIONS including KEYNOTE speeches by SUNDAR PICHAI and other TOP officials from Google. The event was a great SUCCESS and it helped to establish the company as a LEADER in the TECH industry. Here are some of the major announcements made during the conference:\\n* The NEW Android operating system was unveiled during the event and it features many NEW and EXCITING features including IMPROVED PERFORMANCE and SECURITY.\\n* The Bard which is a CONVERSATIONAL AI model developed by Google was also showcased during the conference and it has the potential to REVOLUTIONIZE the way we interact with TECHNOLOGY.\\n* The conference featured many EXHIBITS and DEMONSTRATIONS of NEW PRODUCTS and SERVICES including the LATEST advancements in ARTIFICIAL INTELLIGENCE and MACHINE LEARNING.\\n* The event provided a great opportunity for developers to NETWORK and LEARN from each other and to get feedback on their WORK from EXPERTS in the field.\\n* The NEW Android operating system is expected to be released later this year and it will be available on many DIFFERENT devices including SMARTPHONES and TABLETS.\\n* The conference was a huge SUCCESS and it helped to establish Google as a LEADER in the TECH industry with a strong COMMITMENT to INNOVATION and EXCELLENCE and a focus on DEVELOPING NEW and EXCITING PRODUCTS and SERVICES including the Bard and the NEW Android operating system.\""
   ]
  },
  {
   "cell_type": "markdown",
   "id": "2a401d6b",
   "metadata": {},
   "source": [
    "Configure the LLM you will use in the detector and repairer components. "
   ]
  },
  {
   "cell_type": "code",
   "execution_count": null,
   "id": "d64330b7",
   "metadata": {},
   "outputs": [],
   "source": [
    "import os\n",
    "\n",
    "os.environ[\"WX_API_KEY\"] = \"your_wx_api_key\"\n",
    "os.environ[\"WX_PROJECT_ID\"] = \"your_wx_project_id\"\n",
    "\n",
    "WATSONX_CLIENT = get_llm(\"watsonx\")\n",
    "llm_client = WATSONX_CLIENT(\n",
    "    model_id=\"meta-llama/llama-3-3-70b-instruct\",\n",
    "    api_key=os.getenv(\"WX_API_KEY\"),\n",
    "    project_id=os.getenv(\"WX_PROJECT_ID\"),\n",
    "    url=os.getenv(\"WX_URL\", \"https://us-south.ml.cloud.ibm.com\"),\n",
    ")\n",
    "config = ComponentConfig(llm_client=llm_client)"
   ]
  },
  {
   "cell_type": "markdown",
   "id": "2adda2b2",
   "metadata": {},
   "source": [
    "Initialize the detector and repairer component. "
   ]
  },
  {
   "cell_type": "code",
   "execution_count": null,
   "id": "e5a9b4a3",
   "metadata": {},
   "outputs": [],
   "source": [
    "detector = BatchPolicyLLMDetector(name=\"batch_policy_llm_detector\", config=config)\n",
    "repairer = BatchPolicyRepairer(\n",
    "    name=\"batch_policy_llm_repairer\", detector=detector, config=config\n",
    ")"
   ]
  },
  {
   "cell_type": "markdown",
   "id": "391fb9c9",
   "metadata": {},
   "source": [
    "The user query and agent response is passed to the detector component which identifies whether there is a violation of one of the given policies. This allows the agent builder to implement a go/no-go decision on the response, to raise a warning, or to attempt a repair. "
   ]
  },
  {
   "cell_type": "code",
   "execution_count": null,
   "id": "5318d506",
   "metadata": {},
   "outputs": [],
   "source": [
    "# Set up the input dataclass.\n",
    "input_example = PolicyDetectorInput(\n",
    "    policies=policy_list,\n",
    "    prompt=user_query,\n",
    "    response=response,\n",
    ")\n",
    "\n",
    "# Make detection call\n",
    "detection = detector.detect(input_example)\n",
    "# Boolean flags indicating whether the response complied with each policy in the list.\n",
    "detected_compliance = [d.compliance for d in detection.policy_outputs]\n",
    "\n",
    "print(\"\\n\" + \"++++++ DETECTED COMPLIANCE: \", detected_compliance)"
   ]
  },
  {
   "cell_type": "markdown",
   "id": "8d351fc1",
   "metadata": {},
   "source": [
    "If there is a detected violation, the repairer can use it to produce an alternative response that is compliant with the policies. "
   ]
  },
  {
   "cell_type": "code",
   "execution_count": null,
   "id": "ff216f93",
   "metadata": {},
   "outputs": [],
   "source": [
    "repair_inputs = PolicyRepairerInput(\n",
    "    config=RepairConfig(),  # Use default repair params\n",
    "    detection_input=input_example,\n",
    "    detection_output=detection,\n",
    ")\n",
    "\n",
    "repair = repairer.repair(repair_inputs)\n",
    "repair_response = repair.repaired_text\n",
    "\n",
    "print(\"\\n++++++ REPAIRED RESPONSE:\\n\", repair_response)"
   ]
  }
 ],
 "metadata": {
  "kernelspec": {
   "display_name": "Python (mtk)",
   "language": "python",
   "name": "mtk"
  },
  "language_info": {
   "codemirror_mode": {
    "name": "ipython",
    "version": 3
   },
   "file_extension": ".py",
   "mimetype": "text/x-python",
   "name": "python",
   "nbconvert_exporter": "python",
   "pygments_lexer": "ipython3",
   "version": "3.11.13"
  }
 },
 "nbformat": 4,
 "nbformat_minor": 5
}
